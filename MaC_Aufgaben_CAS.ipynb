{
 "cells": [
  {
   "cell_type": "markdown",
   "metadata": {},
   "source": [
    "# Übungsaufgaben | Python als CAS\n",
    "<p style='text-align: right;'> **Mathematik am Computer für Lehramtsstudierende**  \n",
    "Max Hoffmann (max.hoffmann@math.upb.de)  \n",
    "*Stand:* 20 November 2022</p>\n",
    "\n",
    "Bearbeiten Sie die folgenden Aufgaben mit `sympy`"
   ]
  },
  {
   "cell_type": "markdown",
   "metadata": {},
   "source": [
    "## 1 Zum Warmwerden (Teil 1)\n",
    "Geben Sie die folgenden algebraischen Ausdrücke ein und vereinfachen Sie diese.\n",
    "\n",
    "1. $\\frac{2\\tan(x)}{\\left(\\tan(x)\\right)^2+1}$, vereinfachen\n",
    "\n",
    "2. $(x-a)(x+a)$, ausmultiplizieren\n",
    "\n",
    "3. $x^{2} + 2 x y - 2 x z + y^{2} - 2 y z + z^{2}$, faktorisieren"
   ]
  },
  {
   "cell_type": "code",
   "execution_count": null,
   "metadata": {},
   "outputs": [],
   "source": [
    "# Hier ist Platz für Ihre Lösung\n",
    "from sympy import *\n",
    "\n"
   ]
  },
  {
   "cell_type": "markdown",
   "metadata": {},
   "source": [
    "## 2 Zum Warmwerden (Teil 2)\n",
    "\n",
    "Berechnen Sie Ableitung und eine Stammfunktion von $f(x) = ax^2 + bx +c$."
   ]
  },
  {
   "cell_type": "code",
   "execution_count": null,
   "metadata": {},
   "outputs": [],
   "source": [
    "# Hier ist Platz für Ihre Lösung\n",
    "from sympy import *\n",
    "\n"
   ]
  },
  {
   "cell_type": "markdown",
   "metadata": {},
   "source": [
    "## 3 Zum Warmwerden (Teil 3)\n",
    "Rechnen Sie die folgenden Grenzwerte aus.\n",
    "\n",
    "1. $\\lim\\limits_{n \\to \\infty} \\left(1-\\frac1n\\right)^n$\n",
    "2. $\\lim\\limits_{n \\to \\infty} \\sqrt[n]{42}$\n",
    "3. $\\lim\\limits_{n \\to \\infty} \\frac{n^n}{n!}$"
   ]
  },
  {
   "cell_type": "code",
   "execution_count": null,
   "metadata": {},
   "outputs": [],
   "source": [
    "# Hier ist Platz für Ihre Lösung\n",
    "from sympy import *\n",
    "\n"
   ]
  },
  {
   "cell_type": "markdown",
   "metadata": {},
   "source": [
    "## 4 Eine kleine Knobelaufgabe\n",
    "\n",
    "Finden Sie eine dreistellige Zahl, die folgende Bedingungen erfüllt:\n",
    "1. Die Ziffernsumme einer dreistelligen Zahl ist gleich 18.\n",
    "2. Die Hunderterstelle ist um 6 größer als das 2-fache der Zehnerstelle.\n",
    "3. Die Einerstelle ist um 6 größer als das 3-fache der Zehnerstelle."
   ]
  },
  {
   "cell_type": "code",
   "execution_count": null,
   "metadata": {},
   "outputs": [],
   "source": [
    "# Hier ist Platz für Ihre Lösung\n",
    "from sympy import *\n",
    "\n"
   ]
  },
  {
   "cell_type": "markdown",
   "metadata": {},
   "source": [
    "## 5 Stammfunktionen\n",
    "Berechnen Sie eine Stammfunktion von $x^a$.\n"
   ]
  },
  {
   "cell_type": "code",
   "execution_count": null,
   "metadata": {},
   "outputs": [],
   "source": [
    "# Hier ist Platz für Ihre Lösung\n",
    "from sympy import *\n",
    "\n"
   ]
  },
  {
   "cell_type": "markdown",
   "metadata": {},
   "source": [
    "## 6 Quadratische Terme zum Zweiten\n",
    "Wir betrachten die allgemeine quadratische Funktion $f(x) = ax^2 + bx +c$.\n",
    "\n",
    "1. Ermitteln Sie die allgemein Formel für die Nullstellen\n",
    "2. Ermitteln Sie die Ortskurve des Scheitelpunktes in Abhängigkeit von $a$, $b$."
   ]
  },
  {
   "cell_type": "code",
   "execution_count": null,
   "metadata": {},
   "outputs": [],
   "source": [
    "# Hier ist Platz für Ihre Lösung\n",
    "from sympy import *\n",
    "\n"
   ]
  },
  {
   "cell_type": "markdown",
   "metadata": {},
   "source": [
    "## 7 Pyramidenvolumen mit Integal\n",
    "Schon in der Mittelstufe haben Sie gelernt, dass man das Volumen $V_P$ eine Pyramide mit *Grundseite* $G$ und *Höhe* $h$ mit der Formel $V_P = \\frac13 G\\cdot h$ berechnen kann. Die Integralrechnung liefert eine neue und spannende Perspektive auf das Entdecken der Formel. Wir gehen von einer quadatischen Pyramide mit Grundseitenlänge $a$ aus.\n",
    "\n",
    "1. Entwickeln Sie einen allgemeinen Term für die Kantenlänge $a_t$ des Schnittquadrats auf der Schnitthöhe $t\\in[0,h]$ und definieren Sie diesen Term als Variable `at`.\n",
    "2. Definieren Sie einen Term `Qt`, der die Querschnittsfläche der Pyramide auf der Höhe $t$ mit Hilfe von `at` beschreibt.\n",
    "3. Berechnen Sie das Volumen der Pyramide aus `Qt` via Integration."
   ]
  },
  {
   "cell_type": "code",
   "execution_count": null,
   "metadata": {},
   "outputs": [],
   "source": [
    "# Hier ist Platz für Ihre Lösung\n",
    "from sympy import *\n",
    "\n"
   ]
  },
  {
   "cell_type": "markdown",
   "metadata": {},
   "source": [
    "## 8 Kugelvolumen\n",
    "Gehen Sie ähnlich zu Aufgabe 5 vor um die Volumenformel für eine Kugel mit Radius $r$ herzuleiten.\n",
    "\n",
    "*Tipp:* Plazieren Sie die Kugel so, dass der Mittelpunkt im Koordinatenursprung liegt.\n"
   ]
  },
  {
   "cell_type": "code",
   "execution_count": null,
   "metadata": {},
   "outputs": [],
   "source": [
    "# Hier ist Platz für Ihre Lösung\n",
    "from sympy import *\n",
    "\n"
   ]
  }
 ],
 "metadata": {
  "kernelspec": {
   "display_name": "Python 3",
   "language": "python",
   "name": "python3"
  },
  "language_info": {
   "codemirror_mode": {
    "name": "ipython",
    "version": 3
   },
   "file_extension": ".py",
   "mimetype": "text/x-python",
   "name": "python",
   "nbconvert_exporter": "python",
   "pygments_lexer": "ipython3",
   "version": "3.6.9"
  }
 },
 "nbformat": 4,
 "nbformat_minor": 2
}
