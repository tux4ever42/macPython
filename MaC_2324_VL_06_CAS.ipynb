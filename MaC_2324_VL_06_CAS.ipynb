{
 "cells": [
  {
   "cell_type": "markdown",
   "metadata": {
    "slideshow": {
     "slide_type": "slide"
    }
   },
   "source": [
    "# VL 06 | Python als Computeralgebrasystem\n",
    "<p style='text-align: right;'> **Mathematik am Computer für Lehramtsstudierende**  \n",
    "Max Hoffmann (max.hoffmann@math.upb.de)  \n",
    "*Stand:* 10 November 2023/p>"
   ]
  },
  {
   "cell_type": "markdown",
   "metadata": {
    "slideshow": {
     "slide_type": "slide"
    }
   },
   "source": [
    "## Computeralgebrasysteme\n",
    "*Einsatzszenario:* Automatisiertes Manipulieren von Symbolen\n",
    "\n",
    "MMS im Mathematikuntrricht:\n",
    "* Handhelds (werden schrittweise abgeschafft)\n",
    "* Apps: GeoGebra + andere kommerzielle Apps\n",
    "\n",
    "https://www.iqb.hu-berlin.de/abitur/abitur/dokumente/mathematik/M_Hinweise_zur_V.pdf"
   ]
  },
  {
   "cell_type": "markdown",
   "metadata": {
    "slideshow": {
     "slide_type": "slide"
    }
   },
   "source": [
    "### Lernziele\n",
    "Heute lernen Sie\n",
    "* wie man Python als Computer-Algebra-System nutzen kann,\n",
    "* Python zur Lösung von Problemen aus den Bereichen Analysis, LineareAlgebra und Geometrie zu verwenden"
   ]
  },
  {
   "cell_type": "markdown",
   "metadata": {
    "slideshow": {
     "slide_type": "fragment"
    }
   },
   "source": [
    "*Lokale Installation des Jupyter-Notebooks*: \n",
    "\n",
    "    1. Laden Sie hier die für Ihr Betriebssystem passende Anaconda-Version herunter.\n",
    "    2. Installieren Sie Anaconda auf Ihrem Computer.\n",
    "    3. Nun können Sie das Jupyter-Notebook starten.\n",
    "\n",
    "Weitere Installationshinweise findet Sie unter http://jupyter.org/install.\n"
   ]
  },
  {
   "cell_type": "markdown",
   "metadata": {
    "slideshow": {
     "slide_type": "slide"
    }
   },
   "source": [
    "### SymPy\n",
    "Die Bibliothek `SymPi` macht *Python* zum CAS. In diesem Tutorial lernen Sie wichtige Funktionen kennen, die Ihnen in Schule und Uni vom Vorteil sein können. Mit folgendem Befehl importiert man `SymPy` in ein Programm:\n",
    "\n",
    "```from sympy import *```\n",
    "\n",
    "Mit `SymPi` kann man mit Zahlen, aber insbesondere auch symbolisch rechnen. Wenn Sie in einer Rechnung Buchstabenvariablen (so genannte Symbole) nutzen möchteen, müssen Sie diese zuerst festlegen. Möchten Sie zum Beispiel ein Symbol `x` nutzen, dann funktioniert das über `x = Symbol('x')`"
   ]
  },
  {
   "cell_type": "markdown",
   "metadata": {
    "slideshow": {
     "slide_type": "slide"
    }
   },
   "source": [
    "### 5.1.1 Arithmetik/Algebra\n",
    "Zunächst einige wesentliche Funktionen aus dem Bereich der Arithmetik und Algebra.\n",
    "\n",
    "Wir beginnen mit Termen. Mithilfe von Symbolen und den bekannten Rechenoperationen kann man mathematische Terme definieren. Für jeden Term kann man verschiedene Manipulationen aufrufen. Die erste Manipulation, die wir kennen lernen ist die *Ersetzung* (substitution) `subs(...)`.  Diese werden mit einem `.` an den Term angehängt. \n",
    "\n",
    "* Ist `t` ein symbolischer Term und `x`, `a` Symbole, dann ist `t.subs(x, a)` der Term, den man erhält, wenn man alle Auftreten von `x` durch `a` ersetzt. Nutzt man statt `a` eine Zahl, so wird diese Zahl für `x` eingesetzt.\n",
    "\n",
    "* Ebenfalls nützlich ist, für die Ausgabe von Termen `display()` statt `print()` zu nutzen. Man erhält dann eine Darstellung wie mit einem Formelsatzprogramm.\n",
    "\n",
    "* Für diejenigen, die schon mit LaTeX arbeiten: Wenn man einen Term mit dem Befehl `latex(meinterm)` ausgibt, erhält man den LaTeX-Code dieses Terms.\n",
    "\n",
    "Ein Beispiel:"
   ]
  },
  {
   "cell_type": "code",
   "execution_count": null,
   "metadata": {
    "slideshow": {
     "slide_type": "subslide"
    }
   },
   "outputs": [],
   "source": [
    "from sympy import *\n",
    "\n",
    "# symbole definieren\n",
    "x = Symbol('x')\n",
    "a = Symbol('a')\n",
    "\n",
    "# Term definieren\n",
    "meinterm = x**2+2*x+5\n",
    "\n",
    "# Term anzeigen\n",
    "display(meinterm) \n",
    "\n",
    "# 'x' durch 'a' ersetzen:\n",
    "meinterm2 = meinterm.subs(x,a)\n",
    "display(meinterm2)\n",
    "\n",
    "# 42 fuer 'x' einsetzen:\n",
    "y = meinterm.subs(x, 42)\n",
    "display(y)"
   ]
  },
  {
   "cell_type": "markdown",
   "metadata": {
    "slideshow": {
     "slide_type": "subslide"
    }
   },
   "source": [
    "`SymPy` stellt viele weitere Operationen bereit, die man aus dem üblichen Umgang mit Termen kennt:\n",
    "* Mit `simplify()` wird ein Term möglichst weit vereinfacht.\n",
    "* Mit `expand()` wird ein Term ausmultipliziert.\n",
    "* Mit `factor()` kann ein Term faktorisiert werden.\n",
    "* Mit `collect()` kann ein Term nach den Potenzen einer Variable zusammengefasst werden."
   ]
  },
  {
   "cell_type": "code",
   "execution_count": null,
   "metadata": {
    "slideshow": {
     "slide_type": "subslide"
    }
   },
   "outputs": [],
   "source": [
    "## BEISPIEL SIMPLIFY\n",
    "from sympy import *\n",
    "x = Symbol('x')\n",
    "\n",
    "term1 = sin(x)**2+cos(x)**2\n",
    "display(term1)\n",
    "display(simplify(term1))\n",
    "\n",
    "term2 = (x**2-4)/(x+2)\n",
    "display(term2)\n",
    "display(simplify(term2))"
   ]
  },
  {
   "cell_type": "code",
   "execution_count": null,
   "metadata": {
    "slideshow": {
     "slide_type": "subslide"
    }
   },
   "outputs": [],
   "source": [
    "## BEISPIEL EXPAND\n",
    "from sympy import *\n",
    "x = Symbol('x')\n",
    "y = Symbol('y')\n",
    "\n",
    "term = (2*x+3*y)**4\n",
    "display(term)\n",
    "display(expand(term))"
   ]
  },
  {
   "cell_type": "code",
   "execution_count": null,
   "metadata": {
    "slideshow": {
     "slide_type": "subslide"
    }
   },
   "outputs": [],
   "source": [
    "## BEISPIEL FACTOR\n",
    "from sympy import *\n",
    "x = Symbol('x')\n",
    "y = Symbol('y')\n",
    "z = Symbol('z')\n",
    "\n",
    "term = 5324*x**3*z**2 - 79860*x**3*z + 299475*x**3 - 18876*x**2*y*z**2 + 283140*x**2*y*z - 1061775*x**2*y + 22308*x*y**2*z**2 - 334620*x*y**2*z + 1254825*x*y**2 - 8788*y**3*z**2 + 131820*y**3*z - 494325*y**3\n",
    "display(term)\n",
    "display(factor(term))"
   ]
  },
  {
   "cell_type": "code",
   "execution_count": null,
   "metadata": {
    "slideshow": {
     "slide_type": "subslide"
    }
   },
   "outputs": [],
   "source": [
    "## BEISPIEL COLLECT\n",
    "from sympy import *\n",
    "x = Symbol('x')\n",
    "y = Symbol('y')\n",
    "z = Symbol('z')\n",
    "\n",
    "term = x*y + x - 3 + 2*x**2 - z*x**2 + x**3 + 2*x*z-10*y**3*x*z+y**3*x\n",
    "display(term)\n",
    "display(collect(term,x))\n",
    "display(collect(term,y))\n",
    "display(collect(term,z))"
   ]
  },
  {
   "cell_type": "markdown",
   "metadata": {
    "slideshow": {
     "slide_type": "slide"
    }
   },
   "source": [
    "### 5.1.2 Analysis\n",
    "Ebenfalls zur Verfügung stehen Funktionen zum differenzieren und integrieren:\n",
    "\n",
    "* Mit `diff(term,x)` wird die erste Ableitung des Terms `term` nach `x` bestimmt; die `i`-te Ableitung erhält man analog durch `diff(term, x, i)`\n",
    "\n",
    "* Mit `intergrate(term,x)` wird eine Stammfunktion in der Variable `x` bestimmt. Möchte man auch Integrationsgrenzen angeben, so nutzt man `integrate(term, (x,untereGrenze,obereGrenze))`. Die Grenzen können Zahlen oder aber auch Unendlich (`oo`) sein.\n"
   ]
  },
  {
   "cell_type": "code",
   "execution_count": null,
   "metadata": {
    "slideshow": {
     "slide_type": "subslide"
    }
   },
   "outputs": [],
   "source": [
    "## BEISPIEL ABLEITEN\n",
    "from sympy import *\n",
    "\n",
    "x = Symbol('x')\n",
    "y = Symbol('y')\n",
    "\n",
    "f = x**2*y\n",
    "display(f)\n",
    "display(diff(f,x))\n",
    "display(diff(f,y))"
   ]
  },
  {
   "cell_type": "code",
   "execution_count": null,
   "metadata": {
    "slideshow": {
     "slide_type": "subslide"
    }
   },
   "outputs": [],
   "source": [
    "## BEISPIEL INTEGRIEREN\n",
    "from sympy import *\n",
    "\n",
    "x = Symbol('x')\n",
    "f = x**2 + x + 1\n",
    "display(f)\n",
    "display(integrate(f,x))\n",
    "display(integrate(f,(x,1,10)))\n",
    "\n",
    "g = exp(-x**2) #exp ist e^...\n",
    "display(g)\n",
    "display(integrate(g,(x,0,oo)))"
   ]
  },
  {
   "cell_type": "markdown",
   "metadata": {
    "slideshow": {
     "slide_type": "slide"
    }
   },
   "source": [
    "### 5.1.3 Gleichungen\n",
    "Nun soll es um das Lösen von Gleichungen gehen.\n",
    "\n",
    "1. In `SymPy` kann man mit `Eq(term1,term2)` eine Gleichung durch die beiden Seiten der Gleichung beschreiben.\n",
    "2. Die Lösungsmenge der Gleichung erhält man mit `solveset(Gleichung, Variable, Wertebereich)`. Der Standard Wertebereich ist $\\mathbb C$.\n",
    "3. Der Wertebereich lässt sich ändern: `Reals`, `Rationals`, `Integers`, `Naturals` sind reelle, rationale, ganze oder natürliche Zahlen; mit `Interval(...,...)` kann man die gewünschten Lösungen auf ein Intervall einschränken.\n",
    "4. Zur Weiterarbeit kann man durch die Elemente einer Lösungsmenge einfach mit einer `for`-Schleife iterieren.\n",
    "5. Lineare Gleichungssysteme kann man mit `linsolve([gleichung1, gleichung2,...],(var1, var2,..))` lösen. Der Befehl funktioniert ganz analog zu `solveset`."
   ]
  },
  {
   "cell_type": "code",
   "execution_count": null,
   "metadata": {
    "slideshow": {
     "slide_type": "subslide"
    }
   },
   "outputs": [],
   "source": [
    "from sympy import *\n",
    "\n",
    "x = Symbol('x')\n",
    "y = Symbol('y')\n",
    "\n",
    "# Gleichung mit einfacher Loesung\n",
    "gleichung1 = Eq(5*x+4,2*x)\n",
    "display(gleichung1)\n",
    "l1 = solveset(gleichung1,x)\n",
    "display(l1)\n",
    "\n",
    "# Gleichung mit Loesungsgerade\n",
    "gleichung2 = Eq(5*x+4,2*y)\n",
    "display(gleichung2)\n",
    "l2 = solveset(gleichung2,x)\n",
    "display(l2)\n",
    "\n",
    "# Gleichung ohne Loesung\n",
    "gleichung3 = Eq(exp(x),0)\n",
    "display(gleichung3)\n",
    "l3 = solveset(gleichung3,x)\n",
    "display(l3)\n",
    "\n",
    "# Gleichung mit komplizierterer Loesungsmenge\n",
    "gleichung6 = Eq(sin(x),0)\n",
    "display(gleichung6)\n",
    "l6 = solveset(gleichung6,x)\n",
    "display(l6)\n"
   ]
  },
  {
   "cell_type": "code",
   "execution_count": null,
   "metadata": {
    "slideshow": {
     "slide_type": "subslide"
    }
   },
   "outputs": [],
   "source": [
    "from sympy import *\n",
    "\n",
    "x = Symbol('x')\n",
    "# Gleichung mit komplexen Loesungen\n",
    "gleichung4 = Eq(x**2,-1)\n",
    "display(gleichung4)\n",
    "l4 = solveset(gleichung4,x)\n",
    "display(l4)\n",
    "\n",
    "gleichung5 = Eq(x**2,-1)\n",
    "display(gleichung5)\n",
    "l5 = solveset(gleichung5,x,Reals) #Wertebereich: Reelle Zahlen\n",
    "display(l5)\n",
    "\n",
    "# Statt den Wertebereich in solveset einzuschraenken\n",
    "# kann man eine Variabe von vorne herein auf einen\n",
    "# bestimmten Zahlenbereich einschraenken\n",
    "y = Symbol('y', real=True) #y ist eine reelle Zahl\n",
    "gleichung7 = Eq(y**2,-1)\n",
    "display(gleichung7)\n",
    "l7 = solveset(gleichung7,y)\n",
    "display(l7)"
   ]
  },
  {
   "cell_type": "code",
   "execution_count": null,
   "metadata": {
    "slideshow": {
     "slide_type": "subslide"
    }
   },
   "outputs": [],
   "source": [
    "from sympy import *\n",
    "x = Symbol('x')\n",
    "\n",
    "gleichung = Eq((x**2-2)*(x**2+2)*(2*x - 1)*(x-2)*(x+2),0)\n",
    "display(gleichung)\n",
    "\n",
    "display(solveset(gleichung,x)) #alle Loesungen\n",
    "display(solveset(gleichung,x,Reals)) #reelle Loesungen\n",
    "display(solveset(gleichung,x,Rationals)) #rationale Loesungen\n",
    "display(solveset(gleichung,x,Integers)) #ganze Loesungen\n",
    "display(solveset(gleichung,x,Naturals)) #natürliche Loesungen\n",
    "display(solveset(gleichung,x,Interval(-2,.5))) #Loesungen im Intervall [-1,.5]"
   ]
  },
  {
   "cell_type": "code",
   "execution_count": null,
   "metadata": {
    "slideshow": {
     "slide_type": "subslide"
    }
   },
   "outputs": [],
   "source": [
    "# Durch Loesungsmenge iterieren:\n",
    "from sympy import *\n",
    "x = Symbol('x',real = True)\n",
    "\n",
    "gleichung = Eq((x-1)*(x-42)*(x+4711),0)\n",
    "display(gleichung)\n",
    "\n",
    "lsg = solveset(gleichung,x)\n",
    "display(lsg)\n",
    "\n",
    "# Alle Elemente der Loesungsmenge anschauen\n",
    "for e in lsg:\n",
    "    display(e)"
   ]
  },
  {
   "cell_type": "code",
   "execution_count": null,
   "metadata": {
    "slideshow": {
     "slide_type": "subslide"
    }
   },
   "outputs": [],
   "source": [
    "# Lineares Gleichungssystem\n",
    "x = Symbol('x')\n",
    "y = Symbol('y')\n",
    "z = Symbol('z')\n",
    "\n",
    "gl1 = Eq(-x+y+z,0)\n",
    "gl2 = Eq(x-3*y-2*z,5)\n",
    "gl3 = Eq(5*x+y+4*z,3)\n",
    "\n",
    "display(gl1,gl2,gl3)\n",
    "\n",
    "lsg = linsolve([gl1,gl2,gl3],(x,y,z))\n",
    "display(lsg)\n",
    "\n",
    "# einzelne Loesungen bekommen\n",
    "for e in lsg:\n",
    "    display(e[0])\n",
    "    display(e[1])\n",
    "    display(e[2])"
   ]
  },
  {
   "cell_type": "markdown",
   "metadata": {
    "slideshow": {
     "slide_type": "slide"
    }
   },
   "source": [
    "### 5.1.4  Grenzwerte\n",
    "Das Ausrechnen von Grenzwerten ist ebenfalls ganz einfach. Man nutzt den Befehl `limit(term, variable, grenzwert)` um den Grenzwert des Terms zu bestimmen, wenn `variable` geben `grenzwert` läuft."
   ]
  },
  {
   "cell_type": "code",
   "execution_count": null,
   "metadata": {
    "slideshow": {
     "slide_type": "subslide"
    }
   },
   "outputs": [],
   "source": [
    "# Beispiel Grenzwerte\n",
    "from sympy import *\n",
    "\n",
    "x = Symbol('x')\n",
    "term1 = exp(x)\n",
    "display(exp(x))\n",
    "display(limit(term1, x, -oo))\n",
    "display(limit(term1, x, oo))\n",
    "\n",
    "term2 = 1/x\n",
    "display(term2)\n",
    "display(limit(term2, x, 0)) #standardmaessig der linksseitige Grenzwert\n",
    "display(limit(term2, x, 0, '-')) #rechtsseitiger Grenzwert"
   ]
  },
  {
   "cell_type": "markdown",
   "metadata": {
    "slideshow": {
     "slide_type": "slide"
    }
   },
   "source": [
    "### 5.1.5 Plotten von Funktionsgraphen\n",
    "Abschließend: Das Plotten von Funktionsgraphen ist ebenfalls sehr einfach. Man muss nur die Bibliothek `sympy.plotting` laden und kann dann in intuitiver Weise den `plot()`-Befehl nutzen."
   ]
  },
  {
   "cell_type": "code",
   "execution_count": null,
   "metadata": {
    "slideshow": {
     "slide_type": "subslide"
    }
   },
   "outputs": [],
   "source": [
    "from sympy import * \n",
    "x=Symbol('x') \n",
    "\n",
    "term = x**3-3*x**3+5*x-1\n",
    "display(term)\n",
    "plot(term)\n",
    "plot(term, (x,-2,2), line_color=\"red\") #Mit Wertebereich und Farbe"
   ]
  },
  {
   "cell_type": "markdown",
   "metadata": {
    "slideshow": {
     "slide_type": "slide"
    }
   },
   "source": [
    "Weiter nützliche Mathematische Funktionen findet Sie unter https://www.tutorialspoint.com/sympy/sympy_function_class.htm.\n",
    "# Vielen Dank!"
   ]
  }
 ],
 "metadata": {
  "celltoolbar": "Slideshow",
  "kernelspec": {
   "display_name": "Python 3 (ipykernel)",
   "language": "python",
   "name": "python3"
  },
  "language_info": {
   "codemirror_mode": {
    "name": "ipython",
    "version": 3
   },
   "file_extension": ".py",
   "mimetype": "text/x-python",
   "name": "python",
   "nbconvert_exporter": "python",
   "pygments_lexer": "ipython3",
   "version": "3.10.12"
  }
 },
 "nbformat": 4,
 "nbformat_minor": 2
}
